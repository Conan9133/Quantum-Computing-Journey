{
 "cells": [
  {
   "cell_type": "markdown",
   "id": "883512ba-795a-483a-91e2-6ea160468cf1",
   "metadata": {},
   "source": [
    "# Measurement"
   ]
  },
  {
   "cell_type": "markdown",
   "id": "0232c89a-cede-46ef-a1d2-d946b677033a",
   "metadata": {},
   "source": [
    "Measurement is an art of extracting one classical bit of data from a single qubit state. It destroys entanglement and phase decoherence.\n",
    "\n",
    "To obtain the information about a qubit's state, one has to measure it onto a classical bit. In qiskit, the measurements are performed in computational basis, pauli-Z basis. This can be done by \"measure\" function.\n",
    "\n",
    "QuantumCircuit(a,b) where \"a\" corresponds to qubits and \"b\" corresponds to classical bits.\n",
    "\n",
    "measure([a,b],[c,d]) : measuring qubit \"a\" into classical bit \"c\", similarly for \"b\" into \"d\"."
   ]
  },
  {
   "cell_type": "code",
   "execution_count": 21,
   "id": "6104b0e2-038a-4aae-a22a-3342fe3b2705",
   "metadata": {},
   "outputs": [
    {
     "data": {
      "image/png": "[encoded data removed]",
      "text/plain": [
       "<Figure size 370.906x284.278 with 1 Axes>"
      ]
     },
     "execution_count": 21,
     "metadata": {},
     "output_type": "execute_result"
    }
   ],
   "source": [
    "from qiskit import QuantumCircuit\n",
    "\n",
    "qc = QuantumCircuit(2,2)\n",
    "qc.x(0)\n",
    "qc.h(1)\n",
    "\n",
    "qc.measure([0,1],[0,1])\n",
    "qc.draw(\"mpl\")"
   ]
  },
  {
   "cell_type": "code",
   "execution_count": 22,
   "id": "b39889ab-2cc7-4a8c-b38a-27df828a3458",
   "metadata": {},
   "outputs": [
    {
     "data": {
      "image/png": "[encoded data removed]",
      "text/plain": [
       "<Figure size 496.776x367.889 with 1 Axes>"
      ]
     },
     "execution_count": 22,
     "metadata": {},
     "output_type": "execute_result"
    }
   ],
   "source": [
    "#To measure all qubits, one can use \"measure_all\"\n",
    "qc = QuantumCircuit(2,2)\n",
    "qc.x(0)\n",
    "qc.h(1)\n",
    "\n",
    "qc.measure_all()\n",
    "qc.draw(\"mpl\")"
   ]
  },
  {
   "cell_type": "markdown",
   "id": "8ca81bb4-0570-489a-a86f-9b7776744299",
   "metadata": {},
   "source": [
    "There are some more ways to do measurement."
   ]
  },
  {
   "cell_type": "markdown",
   "id": "ff5c567a-0d08-4473-8151-2e6b2ee6c543",
   "metadata": {},
   "source": [
    "# Advanced Measurements"
   ]
  },
  {
   "cell_type": "markdown",
   "id": "481a87ae-3cfb-458b-9504-0d6a8b539a04",
   "metadata": {},
   "source": [
    "There are some other measurements that can be done on wavefunction or quantum states. Some of those quantities are Fidelity, purity, entropy, entanglement, and so on. "
   ]
  },
  {
   "cell_type": "code",
   "execution_count": 7,
   "id": "294853c0-997d-4340-83ce-7eb18b4e331c",
   "metadata": {},
   "outputs": [
    {
     "name": "stdout",
     "output_type": "stream",
     "text": [
      "Statevector([0.70710678+0.j, 0.        +0.j, 0.        +0.j,\n",
      "             0.70710678+0.j],\n",
      "            dims=(2, 2))\n"
     ]
    },
    {
     "data": {
      "image/png": "[encoded data removed]",
      "text/plain": [
       "<Figure size 287.294x200.667 with 1 Axes>"
      ]
     },
     "execution_count": 7,
     "metadata": {},
     "output_type": "execute_result"
    }
   ],
   "source": [
    "#create a Bell state and convert to a statevector or quantum state\n",
    "from qiskit.quantum_info import Statevector\n",
    "\n",
    "qc = QuantumCircuit(2)\n",
    "qc.h(0)\n",
    "qc.cx(0,1)\n",
    "\n",
    "qstate = Statevector(qc)\n",
    "\n",
    "print(qstate)\n",
    "\n",
    "qc.draw(\"mpl\")"
   ]
  },
  {
   "cell_type": "markdown",
   "id": "43e5bc68-977d-4631-876c-9d0c90d38b7e",
   "metadata": {},
   "source": [
    "In above expression, only first and last coefficients are zero. And for two qubits, the total states are |00>, |01>, |10> and |11>. The above expression for statevector tells that it creates a bell state of form 1/sqrt(2) (|00> + |11>). "
   ]
  },
  {
   "cell_type": "code",
   "execution_count": 24,
   "id": "387f4f1e-fbed-4179-a398-b9caaa8fd2bc",
   "metadata": {},
   "outputs": [
    {
     "name": "stdout",
     "output_type": "stream",
     "text": [
      "Purity of Bell state: 0.9999999999999996\n"
     ]
    }
   ],
   "source": [
    "from qiskit.quantum_info import purity,entropy,entanglement_of_formation,mutual_information\n",
    "\n",
    "#Purity\n",
    "print(f\"Purity of Bell state: {purity(qstate)}\")"
   ]
  },
  {
   "cell_type": "markdown",
   "id": "0cca9219-82c2-40d3-8c3c-e4b44db4e193",
   "metadata": {},
   "source": [
    "As Bell state is a pure state, we get a value almost 1. "
   ]
  },
  {
   "cell_type": "code",
   "execution_count": 32,
   "id": "4c8d6bb6-49f2-4927-969d-f6256ea0b667",
   "metadata": {},
   "outputs": [
    {
     "name": "stdout",
     "output_type": "stream",
     "text": [
      "Entropy of bell state: 0\n"
     ]
    }
   ],
   "source": [
    "#Entropy\n",
    "print(f\"Entropy of bell state: {entropy(qstate, base =2)}\")"
   ]
  },
  {
   "cell_type": "code",
   "execution_count": 34,
   "id": "bb77e3ee-9fc8-4613-b35d-4abf07b2e06e",
   "metadata": {},
   "outputs": [
    {
     "name": "stdout",
     "output_type": "stream",
     "text": [
      "Entanglement of bell state: 1.0\n"
     ]
    }
   ],
   "source": [
    "#Entanglement\n",
    "print(f\"Entanglement of bell state: {entanglement_of_formation(qstate)}\")"
   ]
  },
  {
   "cell_type": "markdown",
   "id": "d6d3f974-8277-4725-bfb2-d7cc7e218337",
   "metadata": {},
   "source": [
    "As Bell state is a maximally entangled state, we get entanglement to 1."
   ]
  },
  {
   "cell_type": "code",
   "execution_count": 35,
   "id": "1d71e20b-d235-4bcd-9fd4-95ceb5ab499a",
   "metadata": {},
   "outputs": [
    {
     "name": "stdout",
     "output_type": "stream",
     "text": [
      "Mutual information present in bell state: 2.0\n"
     ]
    }
   ],
   "source": [
    "#mutual information\n",
    "print(f\"Mutual information present in bell state: {mutual_information(qstate, base =2)}\")"
   ]
  },
  {
   "cell_type": "code",
   "execution_count": 36,
   "id": "1624646b-5ac4-46d7-a7e6-6a24742546dc",
   "metadata": {},
   "outputs": [
    {
     "name": "stdout",
     "output_type": "stream",
     "text": [
      "DensityMatrix([[0.5+0.j, 0. +0.j, 0. +0.j, 0.5+0.j],\n",
      "               [0. +0.j, 0. +0.j, 0. +0.j, 0. +0.j],\n",
      "               [0. +0.j, 0. +0.j, 0. +0.j, 0. +0.j],\n",
      "               [0.5+0.j, 0. +0.j, 0. +0.j, 0.5+0.j]],\n",
      "              dims=(2, 2))\n"
     ]
    }
   ],
   "source": [
    "#Creating density matrix from statevector: dmatrix = |qstate><qstate|\n",
    "from qiskit.quantum_info import DensityMatrix\n",
    "\n",
    "dmatrix = DensityMatrix(qstate)\n",
    "dmatrix"
   ]
  },
  {
   "cell_type": "markdown",
   "id": "e069fb73-ab55-47d4-9dfc-f910d93fc920",
   "metadata": {},
   "source": [
    "Fidelity(F): It measures the similarity between two quantum states. \n",
    "\n",
    "F = 1, states are identical\n",
    "\n",
    "F = 0, states are completely orthogonal\n",
    "\n",
    "There are different fidelity measurements in qiskit. Some are related to different noise quantum channels."
   ]
  },
  {
   "cell_type": "code",
   "execution_count": 37,
   "id": "256c56b9-974b-4868-9e9e-7b389fcd298c",
   "metadata": {},
   "outputs": [
    {
     "name": "stdout",
     "output_type": "stream",
     "text": [
      "Fidelity between Bell-like states: 0.9999999999999996\n"
     ]
    }
   ],
   "source": [
    "#Creating two quantum states to evaluate fidelity\n",
    "from qiskit.quantum_info import state_fidelity\n",
    "\n",
    "qc1 = QuantumCircuit(2)\n",
    "qc1.h(0)\n",
    "qc1.cx(0, 1)\n",
    "psi = Statevector.from_instruction(qc1)\n",
    "\n",
    "qc2 = QuantumCircuit(2)\n",
    "qc2.h(1)\n",
    "qc2.cx(1, 0)\n",
    "phi = Statevector.from_instruction(qc2)\n",
    "\n",
    "f = state_fidelity(psi, phi)\n",
    "print(f\"Fidelity between Bell-like states: {f}\")\n"
   ]
  },
  {
   "cell_type": "code",
   "execution_count": null,
   "id": "19ecb024-488f-4554-8c68-d1e27b4d837c",
   "metadata": {},
   "outputs": [],
   "source": []
  }
 ],
 "metadata": {
  "kernelspec": {
   "display_name": "Python 3 (ipykernel)",
   "language": "python",
   "name": "python3"
  },
  "language_info": {
   "codemirror_mode": {
    "name": "ipython",
    "version": 3
   },
   "file_extension": ".py",
   "mimetype": "text/x-python",
   "name": "python",
   "nbconvert_exporter": "python",
   "pygments_lexer": "ipython3",
   "version": "3.13.5"
  }
 },
 "nbformat": 4,
 "nbformat_minor": 5
}
