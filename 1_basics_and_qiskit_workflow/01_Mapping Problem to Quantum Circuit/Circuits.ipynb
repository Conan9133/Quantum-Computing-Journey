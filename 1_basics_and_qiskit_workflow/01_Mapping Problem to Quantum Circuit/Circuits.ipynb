{
 "cells": [
  {
   "cell_type": "markdown",
   "id": "1cee4da7-e648-4ea2-800c-f854c96d13b4",
   "metadata": {},
   "source": [
    "# Creating Quantum Circuits"
   ]
  },
  {
   "cell_type": "markdown",
   "id": "5fff38be-7ca7-4881-8f1a-951157020316",
   "metadata": {},
   "source": [
    "Quantum Circuit is a collection of qubits and a list of instructions that act on those qubits."
   ]
  },
  {
   "cell_type": "markdown",
   "id": "ad45cb25-b26b-4b78-a744-ef5299846e43",
   "metadata": {},
   "source": [
    "## Simple Circuits"
   ]
  },
  {
   "cell_type": "code",
   "execution_count": 1,
   "id": "6f08d7d5-827e-4049-83f1-4d903c2fdfa7",
   "metadata": {},
   "outputs": [],
   "source": [
    "#Initialization\n",
    "from qiskit import QuantumCircuit\n",
    "import matplotlib as plt"
   ]
  },
  {
   "cell_type": "code",
   "execution_count": 2,
   "id": "c33c553d-3654-488c-8e76-a2c84a5332b4",
   "metadata": {},
   "outputs": [],
   "source": [
    "qc=QuantumCircuit(2) #Creates Quantum circuit with two qubits"
   ]
  },
  {
   "cell_type": "code",
   "execution_count": 3,
   "id": "56419150-3381-4c7e-94ff-80e5d7092fa5",
   "metadata": {},
   "outputs": [
    {
     "data": {
      "text/plain": [
       "<qiskit.circuit.instructionset.InstructionSet at 0x18357d3bf10>"
      ]
     },
     "execution_count": 3,
     "metadata": {},
     "output_type": "execute_result"
    }
   ],
   "source": [
    "qc.x(0) #Added x-gate to qubit 0"
   ]
  },
  {
   "cell_type": "code",
   "execution_count": 4,
   "id": "bda804c1-f80b-4491-8a1b-8dc3434b8fc7",
   "metadata": {},
   "outputs": [
    {
     "data": {
      "text/plain": [
       "<qiskit.circuit.instructionset.InstructionSet at 0x18345ac52a0>"
      ]
     },
     "execution_count": 4,
     "metadata": {},
     "output_type": "execute_result"
    }
   ],
   "source": [
    "qc.h(1) #To add HGate or Hadamard gate to qubit 1"
   ]
  },
  {
   "cell_type": "code",
   "execution_count": 5,
   "id": "d5e689d1-936e-49a0-be66-9d95fecd1122",
   "metadata": {},
   "outputs": [
    {
     "data": {
      "image/png": "[encoded data removed]",
      "text/plain": [
       "<Figure size 203.683x200.667 with 1 Axes>"
      ]
     },
     "execution_count": 5,
     "metadata": {},
     "output_type": "execute_result"
    }
   ],
   "source": [
    "qc.draw(\"mpl\")"
   ]
  },
  {
   "cell_type": "code",
   "execution_count": 6,
   "id": "437501db-0dbd-4532-985d-dd5797f0f5b4",
   "metadata": {},
   "outputs": [
    {
     "data": {
      "image/png": "[encoded data removed]",
      "text/plain": [
       "<Figure size 287.294x200.667 with 1 Axes>"
      ]
     },
     "execution_count": 6,
     "metadata": {},
     "output_type": "execute_result"
    }
   ],
   "source": [
    "# Add gates using 'append' function as well\n",
    "from qiskit.circuit.library import HGate #importing gate from library\n",
    "qc.append(HGate(),[0]) #adding H gate to qubit 0\n",
    "qc.draw(\"mpl\")"
   ]
  },
  {
   "cell_type": "code",
   "execution_count": 8,
   "id": "bd701d35-bd70-4063-936c-b3346117e7e8",
   "metadata": {},
   "outputs": [
    {
     "data": {
      "image/png": "[encoded data removed]",
      "text/plain": [
       "<Figure size 203.885x284.278 with 1 Axes>"
      ]
     },
     "execution_count": 8,
     "metadata": {},
     "output_type": "execute_result"
    }
   ],
   "source": [
    "#To combine two or more circuits to create a new circuit, use \"compose\"\n",
    "#Circuit 1\n",
    "qc_a = QuantumCircuit(3)\n",
    "qc_a.h(0)\n",
    "#cirucit 2\n",
    "qc_b = QuantumCircuit(2)\n",
    "qc_b.x(0)\n",
    "qc_b.y(1)\n",
    "#combined circuit: implementing qc_b circuit to 1 and 2 qubits of qc_a\n",
    "combine_qc = qc_a.compose(qc_b,qubits = [1,2])\n",
    "combine_qc.draw(\"mpl\")\n"
   ]
  },
  {
   "cell_type": "markdown",
   "id": "a78f22d9-5806-4ef6-8951-de492c9be59f",
   "metadata": {},
   "source": [
    "To reveal each gate into basis gates, use \"decompose\" function"
   ]
  },
  {
   "cell_type": "code",
   "execution_count": 11,
   "id": "7a836da9-4270-4b0e-b046-26e69309875b",
   "metadata": {},
   "outputs": [
    {
     "name": "stdout",
     "output_type": "stream",
     "text": [
      "[[ 1.+0.j  0.+0.j]\n",
      " [ 0.+0.j -1.+0.j]]\n",
      "[[1.000000e+00+0.j 0.000000e+00+0.j]\n",
      " [0.000000e+00+0.j 6.123234e-17+1.j]]\n"
     ]
    }
   ],
   "source": [
    "#As the standard gates are reversible unitary gates, we can write their matrix representations\n",
    "from qiskit.circuit.library import ZGate\n",
    "gate = ZGate()\n",
    "#to print the gate as a unitary matrix\n",
    "print(gate.to_matrix())\n",
    "#To create a square root of matrix operator \n",
    "print(gate.power(1/2).to_matrix())"
   ]
  },
  {
   "cell_type": "markdown",
   "id": "7edc093c-46d0-47bc-9a4a-03481b5fba85",
   "metadata": {},
   "source": [
    "## Paramterized Circuits"
   ]
  },
  {
   "cell_type": "markdown",
   "id": "570c2246-ac0e-4c60-a415-2209bdec3b22",
   "metadata": {},
   "source": [
    "Parameterized circuits are the circuits with undefined parameters. "
   ]
  },
  {
   "cell_type": "code",
   "execution_count": 10,
   "id": "566d7fe9-6753-41b1-9120-a5e2889d2561",
   "metadata": {},
   "outputs": [
    {
     "data": {
      "image/png": "[encoded data removed]",
      "text/plain": [
       "<Figure size 185.453x117.056 with 1 Axes>"
      ]
     },
     "execution_count": 10,
     "metadata": {},
     "output_type": "execute_result"
    }
   ],
   "source": [
    "from qiskit.circuit import Parameter\n",
    "\n",
    "angle = Parameter(\"angle\") #undefined parameter\n",
    "\n",
    "qc = QuantumCircuit(1) # creating a quantum circuit with one qubit\n",
    "qc.rx(angle,0) #applying a \"rotation around x-axis(rx)\" gate to qubit 0\n",
    "\n",
    "qc.draw(\"mpl\")"
   ]
  },
  {
   "cell_type": "markdown",
   "id": "87d17d04-3478-4651-bdc7-de9aa7b61243",
   "metadata": {},
   "source": [
    "## 1-qubit gates"
   ]
  },
  {
   "cell_type": "markdown",
   "id": "6ba57c9e-d7c0-42e7-b142-66ae87331dcb",
   "metadata": {},
   "source": [
    "These are the standard gates that act on 1 qubit only. Some of the important ones are X, Y, Z, I, H, and so on. As these gates act on single qubit, they are of 2x2 matrices in matrix representation."
   ]
  },
  {
   "cell_type": "code",
   "execution_count": 20,
   "id": "96be787f-3725-473d-bc9a-8d34bd4b9e80",
   "metadata": {},
   "outputs": [
    {
     "name": "stdout",
     "output_type": "stream",
     "text": [
      "Hgate matrix= [[ 0.70710678+0.j  0.70710678+0.j]\n",
      " [ 0.70710678+0.j -0.70710678+0.j]]\n",
      "Igate matrix= [[1.+0.j 0.+0.j]\n",
      " [0.+0.j 1.+0.j]]\n"
     ]
    },
    {
     "data": {
      "image/png": "[encoded data removed]",
      "text/plain": [
       "<Figure size 269.064x117.056 with 1 Axes>"
      ]
     },
     "execution_count": 20,
     "metadata": {},
     "output_type": "execute_result"
    }
   ],
   "source": [
    "from qiskit.circuit.library import IGate\n",
    "qc = QuantumCircuit(1)\n",
    "#H gate (hadamard gate)\n",
    "qc.h(0)\n",
    "print(\"Hgate matrix=\",HGate().to_matrix())\n",
    "\n",
    "#IGate (identity)\n",
    "qc.id(0)\n",
    "print(\"Igate matrix=\",IGate().to_matrix())\n",
    "\n",
    "qc.draw(\"mpl\")"
   ]
  },
  {
   "cell_type": "markdown",
   "id": "6f4c4d04-1c2f-419d-a8be-93fe0949db0b",
   "metadata": {},
   "source": [
    "Similarly, one can implement any other gates. Some of other important ones are \n",
    "\n",
    "Basic gates: I, X, Y, Z, H where X,Y and Z gates are usual Pauli matrices\n",
    "\n",
    "Rotation gates: Phasegate, Rgate, RXgate, RYgate, RZgate, UGate where all the rotation gates are limitations of Ugate\n",
    "\n",
    "Other gates: Sgate, SXgate, Tgate (these are obtained from basic gates)"
   ]
  },
  {
   "cell_type": "markdown",
   "id": "a0755552-5c50-422e-9dbe-50873fe62134",
   "metadata": {},
   "source": [
    "## 2-qubit gates"
   ]
  },
  {
   "cell_type": "markdown",
   "id": "b2bd5a68-563c-4af1-b6c9-fd78e57c375f",
   "metadata": {},
   "source": [
    "In the case of 2-qubit gates, they are represented by 4x4 matrices. Most of the 2-qubit gates are controlled gates. In case of these gates, an operation will occur on 2nd qubit iff 1st qubit is 1. Some of such gates are CHGate, CPhasegate, CRXgate, and so on."
   ]
  },
  {
   "cell_type": "code",
   "execution_count": 25,
   "id": "39b0e949-1c3f-4a95-a0c5-8b4aea14c436",
   "metadata": {},
   "outputs": [
    {
     "name": "stdout",
     "output_type": "stream",
     "text": [
      "[[ 1.        +0.j  0.        +0.j  0.        +0.j  0.        +0.j]\n",
      " [ 0.        +0.j  0.70710678+0.j  0.        +0.j  0.70710678+0.j]\n",
      " [ 0.        +0.j  0.        +0.j  1.        +0.j  0.        +0.j]\n",
      " [ 0.        +0.j  0.70710678+0.j  0.        +0.j -0.70710678+0.j]]\n"
     ]
    }
   ],
   "source": [
    "from qiskit.quantum_info import Operator\n",
    "qc = QuantumCircuit(2) \n",
    "qc.ch(0,1) #Applying CHGate with control on qubit 0 and target is qubit 1.\n",
    "qc.draw(\"mpl\")\n",
    "\n",
    "#to see matrix representation, one has to use Operator class (explained in other file)\n",
    "unitary = Operator(qc)\n",
    "\n",
    "print(unitary.data)"
   ]
  },
  {
   "cell_type": "markdown",
   "id": "5ceaaf13-0d39-4eb9-b435-092376c3a7d3",
   "metadata": {},
   "source": [
    "There are also other gates such as DCXGate (double CNOT gate), ECRgate, Swapgate, which are inherent 2-qubit gates."
   ]
  },
  {
   "cell_type": "code",
   "execution_count": 7,
   "id": "c2fcfc84-08d9-4a5a-84cf-7bdb799b5731",
   "metadata": {},
   "outputs": [
    {
     "data": {
      "image/png": "[encoded data removed]",
      "text/plain": [
       "<Figure size 203.683x200.667 with 1 Axes>"
      ]
     },
     "execution_count": 7,
     "metadata": {},
     "output_type": "execute_result"
    }
   ],
   "source": [
    "from qiskit.circuit.library import DCXGate, SwapGate\n",
    "\n",
    "qc = QuantumCircuit(2)\n",
    "qc.dcx(0,1)\n",
    "\n",
    "qc.draw(\"mpl\")"
   ]
  },
  {
   "cell_type": "code",
   "execution_count": 8,
   "id": "a400ac2d-d2ca-4078-80ef-8402ae9384c4",
   "metadata": {},
   "outputs": [
    {
     "data": {
      "image/png": "[encoded data removed]",
      "text/plain": [
       "<Figure size 287.294x200.667 with 1 Axes>"
      ]
     },
     "execution_count": 8,
     "metadata": {},
     "output_type": "execute_result"
    }
   ],
   "source": [
    "#To implement swap gate, it looks like below\n",
    "qc.swap(0,1)\n",
    "qc.draw(\"mpl\")"
   ]
  },
  {
   "cell_type": "markdown",
   "id": "8d99f4f0-41ef-4fbb-a57d-a65db4d362c7",
   "metadata": {},
   "source": [
    "There are also rotation gates implemented over all XX, XY, and so on, operators. Some of them are RXXGate, RYYGate, RZXGate, RZZGate, and so on."
   ]
  },
  {
   "cell_type": "markdown",
   "id": "aa00ff7c-4487-4d80-ab64-0117a472c412",
   "metadata": {},
   "source": [
    "## 3-qubit or more standard gates"
   ]
  },
  {
   "cell_type": "markdown",
   "id": "341390f2-5995-4e0a-80ad-b7ba315640b1",
   "metadata": {},
   "source": [
    "In higher qubit cases, most of the gates are same as 2-qubit gates which are controlled gates (different combinations), swapgates, and rotation gates."
   ]
  },
  {
   "cell_type": "markdown",
   "id": "8ec05da5-f7b4-4083-9f2a-5b73ee1ee8ae",
   "metadata": {},
   "source": [
    "Some of the important ones are Toffoli gate or CCXGate (double controlled X gate), Fredkin gate or controlled swap gate, and Simplified Toffoli gate or margolus gate or RCCXgate."
   ]
  },
  {
   "cell_type": "code",
   "execution_count": 9,
   "id": "a90ca1a1-a9ea-4c5c-ba39-c8a56ed64668",
   "metadata": {},
   "outputs": [
    {
     "data": {
      "image/png": "[encoded data removed]",
      "text/plain": [
       "<Figure size 203.885x284.278 with 1 Axes>"
      ]
     },
     "execution_count": 9,
     "metadata": {},
     "output_type": "execute_result"
    }
   ],
   "source": [
    "from qiskit.circuit.library import CCXGate\n",
    "\n",
    "qc = QuantumCircuit(3)\n",
    "\n",
    "qc.ccx(0,1,2)\n",
    "qc.draw(\"mpl\")"
   ]
  },
  {
   "cell_type": "code",
   "execution_count": null,
   "id": "a31cf249-1af2-4000-82e1-3878c457cebe",
   "metadata": {},
   "outputs": [],
   "source": []
  }
 ],
 "metadata": {
  "kernelspec": {
   "display_name": "Python 3 (ipykernel)",
   "language": "python",
   "name": "python3"
  },
  "language_info": {
   "codemirror_mode": {
    "name": "ipython",
    "version": 3
   },
   "file_extension": ".py",
   "mimetype": "text/x-python",
   "name": "python",
   "nbconvert_exporter": "python",
   "pygments_lexer": "ipython3",
   "version": "3.13.5"
  }
 },
 "nbformat": 4,
 "nbformat_minor": 5
}
