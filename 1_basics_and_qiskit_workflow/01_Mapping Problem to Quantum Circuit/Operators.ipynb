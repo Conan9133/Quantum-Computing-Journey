{
 "cells": [
  {
   "cell_type": "markdown",
   "id": "73b0b17b-0a82-415d-a09f-1ebebf888d1c",
   "metadata": {},
   "source": [
    "# Operators Module"
   ]
  },
  {
   "cell_type": "markdown",
   "id": "a7c605a8-9b71-418e-9d53-9bc643430e6f",
   "metadata": {},
   "source": [
    "Operators represent a mathematical object: a unitary matrix. These objects represents physical observables.\n",
    "\n",
    "In qiskit, these are represented by classes. The most important classes are Pauli class, SparsePauliOp class and operator class."
   ]
  },
  {
   "cell_type": "code",
   "execution_count": 1,
   "id": "7e8275df-3cee-405c-ac26-75bc65ce0880",
   "metadata": {},
   "outputs": [],
   "source": [
    "import numpy as np\n",
    "from qiskit.quantum_info.operators import Operator, Pauli, SparsePauliOp"
   ]
  },
  {
   "cell_type": "markdown",
   "id": "ce255ce8-5480-440c-a2f0-d0e9559d8237",
   "metadata": {},
   "source": [
    "## Pauli Class"
   ]
  },
  {
   "cell_type": "markdown",
   "id": "dcf6da8e-58e1-4316-ad3b-88c3e7034d27",
   "metadata": {},
   "source": [
    "Pauli class represents a single Pauli string (from set {I,X,Y,Z}) with a optional phase coefficient ({1,i,-1,-i})."
   ]
  },
  {
   "cell_type": "code",
   "execution_count": 5,
   "id": "f1c85960-b97b-4736-a9ca-61101d573ef5",
   "metadata": {},
   "outputs": [
    {
     "name": "stdout",
     "output_type": "stream",
     "text": [
      "[[0.+0.j 1.+0.j]\n",
      " [1.+0.j 0.+0.j]]\n"
     ]
    }
   ],
   "source": [
    "#for simple Pauli matrix: X = {{0,1},{1,0}}\n",
    "op1 = Pauli(\"X\")\n",
    "print(op1.to_matrix())"
   ]
  },
  {
   "cell_type": "code",
   "execution_count": 7,
   "id": "15b086cf-5ac1-438a-9811-07a08373edc2",
   "metadata": {},
   "outputs": [
    {
     "name": "stdout",
     "output_type": "stream",
     "text": [
      "[[0.+0.j 0.+0.j 0.+0.j 0.-1.j]\n",
      " [0.+0.j 0.+0.j 0.+1.j 0.+0.j]\n",
      " [0.+0.j 0.-1.j 0.+0.j 0.+0.j]\n",
      " [0.+1.j 0.+0.j 0.+0.j 0.+0.j]]\n"
     ]
    }
   ],
   "source": [
    "#for a bigger string of Pauli matrices: Ex: XY (tensor product of X and Y Pauli matrices)\n",
    "op2 = Pauli(\"XY\")\n",
    "print(op2.to_matrix())"
   ]
  },
  {
   "cell_type": "markdown",
   "id": "2a998a6c-96ce-4b2c-92da-26f5c2ddb858",
   "metadata": {},
   "source": [
    "There are several ways to intialise the Pauli operator. The above mentioned one is called string representation. The other ways are Array representation, matrix operator representation, and date representation."
   ]
  },
  {
   "cell_type": "markdown",
   "id": "6b0635dd-16c2-453e-95d0-3e493f8a61d3",
   "metadata": {},
   "source": [
    "## SparsePauliOp class"
   ]
  },
  {
   "cell_type": "markdown",
   "id": "4320c451-0f27-4365-81a9-ef555f1a6fd2",
   "metadata": {},
   "source": [
    "The SparsePauliOp class represents a linear combination of Pauli strings. As in the case of pauli class, one can intialise SparsePauliOp in many ways. The easiest way is to use the \"from_sparse_list\" method, where \"from_sparse_list\" is triplet with (paulistring, qubitindices, coefficient). For example, if triplet is (XX,[1,2],i), it means the operator is \"iIXX\"."
   ]
  },
  {
   "cell_type": "code",
   "execution_count": 9,
   "id": "8d48d423-0c62-4efe-a4fe-4ec8298f034c",
   "metadata": {},
   "outputs": [
    {
     "data": {
      "text/plain": [
       "SparsePauliOp(['ZIIXI', 'IZIIY'],\n",
       "              coeffs=[2.+0.j, 0.+2.j])"
      ]
     },
     "execution_count": 9,
     "metadata": {},
     "output_type": "execute_result"
    }
   ],
   "source": [
    "op1 = SparsePauliOp.from_sparse_list([(\"XZ\",[1,4],2),(\"YZ\",[0,3],2j)],num_qubits = 5)\n",
    "op1"
   ]
  },
  {
   "cell_type": "markdown",
   "id": "c0550d60-84fc-4aa8-9b98-07c9b6677b7b",
   "metadata": {},
   "source": [
    "If we have pauli strings of same dimensions, one can use \"from_list\" instead of \"from_sparse_list\"."
   ]
  },
  {
   "cell_type": "code",
   "execution_count": 11,
   "id": "e94563c3-5f53-4adb-8e65-cb82c95dc13b",
   "metadata": {},
   "outputs": [
    {
     "data": {
      "text/plain": [
       "SparsePauliOp(['ZI', 'XX', 'XY'],\n",
       "              coeffs=[0.5+0.j, 0.7+0.j, 0.2+0.j])"
      ]
     },
     "execution_count": 11,
     "metadata": {},
     "output_type": "execute_result"
    }
   ],
   "source": [
    "#for a operator of form op2 = 0.5 ZI + 0.7 XX + 0.2 XY\n",
    "op2 = SparsePauliOp.from_list([(\"ZI\",0.5),(\"XX\",0.7),(\"XY\",0.2)])\n",
    "op2"
   ]
  },
  {
   "cell_type": "markdown",
   "id": "fdbf3831-7190-453b-8b36-310a0647c149",
   "metadata": {},
   "source": [
    "## Operator Class"
   ]
  },
  {
   "cell_type": "markdown",
   "id": "7e05a55a-524e-4894-835f-42d44faed47c",
   "metadata": {},
   "source": [
    "Operator class represents a general linear operator. One can easily initialize the operator by directly passing a numpy array storing matrix.  "
   ]
  },
  {
   "cell_type": "code",
   "execution_count": 12,
   "id": "4beaad86-2b15-494a-a53d-3fb3686835bb",
   "metadata": {},
   "outputs": [
    {
     "name": "stdout",
     "output_type": "stream",
     "text": [
      "Operator([[0.+0.j, 1.+0.j],\n",
      "          [1.+0.j, 0.+0.j]],\n",
      "         input_dims=(2,), output_dims=(2,))\n"
     ]
    }
   ],
   "source": [
    "X = Operator(np.array([[0,1],[1,0]]))\n",
    "X"
   ]
  },
  {
   "cell_type": "markdown",
   "id": "d16ddbbc-b485-4427-8e62-67f0acc1dc90",
   "metadata": {},
   "source": [
    "One can also convert a quantum circuit or gate into a operator by just passing it to Operator() function."
   ]
  },
  {
   "cell_type": "code",
   "execution_count": 13,
   "id": "ab4e9dda-9c83-46c2-a10b-d480880025c6",
   "metadata": {},
   "outputs": [
    {
     "name": "stdout",
     "output_type": "stream",
     "text": [
      "Operator([[0.+0.j, 0.+0.j, 0.+0.j, 0.-1.j],\n",
      "          [0.+0.j, 0.+0.j, 0.+1.j, 0.+0.j],\n",
      "          [0.+0.j, 0.-1.j, 0.+0.j, 0.+0.j],\n",
      "          [0.+1.j, 0.+0.j, 0.+0.j, 0.+0.j]],\n",
      "         input_dims=(2, 2), output_dims=(2, 2))\n"
     ]
    }
   ],
   "source": [
    "#for Pauli class object\n",
    "pauliXY = Pauli(\"XY\")\n",
    "Operator(pauliXY)"
   ]
  },
  {
   "cell_type": "code",
   "execution_count": 14,
   "id": "ffd679c1-a8ae-4d98-a7b2-7078067aa15f",
   "metadata": {},
   "outputs": [
    {
     "name": "stdout",
     "output_type": "stream",
     "text": [
      "Operator([[0.+0.j, 1.+0.j],\n",
      "          [1.+0.j, 0.+0.j]],\n",
      "         input_dims=(2,), output_dims=(2,))\n"
     ]
    }
   ],
   "source": [
    "#for gate \n",
    "from qiskit.circuit.library import XGate\n",
    "Operator(XGate())"
   ]
  },
  {
   "cell_type": "code",
   "execution_count": 15,
   "id": "60751a54-3cc1-4339-a307-4517e52d34f6",
   "metadata": {},
   "outputs": [
    {
     "name": "stdout",
     "output_type": "stream",
     "text": [
      "Operator([[ 0.70710678+0.j,  0.70710678+0.j],\n",
      "          [ 0.70710678+0.j, -0.70710678+0.j]],\n",
      "         input_dims=(2,), output_dims=(2,))\n"
     ]
    }
   ],
   "source": [
    "#for a quantum circuit\n",
    "from qiskit.circuit import QuantumCircuit\n",
    "\n",
    "qc = QuantumCircuit(1)\n",
    "qc.h(0)\n",
    "\n",
    "Operator(qc)"
   ]
  },
  {
   "cell_type": "markdown",
   "id": "0bec87c8-a71b-4670-8de8-f0316a6ee039",
   "metadata": {},
   "source": [
    "As operators are unitary matrices, one can easily add them to circuits."
   ]
  },
  {
   "cell_type": "code",
   "execution_count": 20,
   "id": "109102a3-a341-4844-b496-922cd107150a",
   "metadata": {},
   "outputs": [
    {
     "data": {
      "image/png": "[encoded data removed]",
      "text/plain": [
       "<Figure size 287.294x200.667 with 1 Axes>"
      ]
     },
     "execution_count": 20,
     "metadata": {},
     "output_type": "execute_result"
    }
   ],
   "source": [
    "#adding XY to a qc circuit\n",
    "qc = QuantumCircuit(2)\n",
    "qc.append(pauliXY,[0,1])\n",
    "qc.draw(\"mpl\")"
   ]
  },
  {
   "cell_type": "markdown",
   "id": "cb2053d8-09e7-46c5-a1ba-6899946c414e",
   "metadata": {},
   "source": [
    "As the operators are matrices in representation, one can do the vector algebra on them like tensor product, matrix multiplication, linear combinations and so on."
   ]
  },
  {
   "cell_type": "code",
   "execution_count": 24,
   "id": "a9d1f9f8-124d-446d-b3a6-de0e5b3e08d3",
   "metadata": {},
   "outputs": [
    {
     "name": "stdout",
     "output_type": "stream",
     "text": [
      "Operator([[0.+0.j, 0.+0.j, 0.+0.j, 0.-1.j],\n",
      "          [0.+0.j, 0.+0.j, 0.+1.j, 0.+0.j],\n",
      "          [0.+0.j, 0.-1.j, 0.+0.j, 0.+0.j],\n",
      "          [0.+1.j, 0.+0.j, 0.+0.j, 0.+0.j]],\n",
      "         input_dims=(2, 2), output_dims=(2, 2))\n",
      "Operator([[0.+0.j, 0.+0.j, 0.+0.j, 0.-1.j],\n",
      "          [0.+0.j, 0.+0.j, 0.+1.j, 0.+0.j],\n",
      "          [0.+0.j, 0.-1.j, 0.+0.j, 0.+0.j],\n",
      "          [0.+1.j, 0.+0.j, 0.+0.j, 0.+0.j]],\n",
      "         input_dims=(2, 2), output_dims=(2, 2))\n"
     ]
    },
    {
     "data": {
      "text/plain": [
       "True"
      ]
     },
     "execution_count": 24,
     "metadata": {},
     "output_type": "execute_result"
    }
   ],
   "source": [
    "#Tensor product of X and Y pauli matrices\n",
    "\n",
    "A = Operator(Pauli(\"X\"))\n",
    "B = Operator(Pauli(\"Y\"))\n",
    "\n",
    "print(A.tensor(B))\n",
    "\n",
    "#The above one is same as XY \n",
    "\n",
    "C = Operator(Pauli(\"XY\"))\n",
    "\n",
    "print(C)\n",
    "\n",
    "#To compare\n",
    "C == A.tensor(B)"
   ]
  },
  {
   "cell_type": "code",
   "execution_count": 27,
   "id": "4e0a9004-48fd-41a4-a277-755d10cd0296",
   "metadata": {},
   "outputs": [
    {
     "name": "stdout",
     "output_type": "stream",
     "text": [
      "Operator([[0. +0.j , 0.2-0.6j],\n",
      "          [0.2+0.6j, 0. +0.j ]],\n",
      "         input_dims=(2,), output_dims=(2,))\n"
     ]
    }
   ],
   "source": [
    "#Linear combinations: It does not preserve unitarity\n",
    "\n",
    "op = 0.2 * ( A + 3*B)\n",
    "op"
   ]
  },
  {
   "cell_type": "code",
   "execution_count": null,
   "id": "3282b019-8b9f-432f-8ab5-aae09da4883e",
   "metadata": {},
   "outputs": [],
   "source": []
  }
 ],
 "metadata": {
  "kernelspec": {
   "display_name": "Python 3 (ipykernel)",
   "language": "python",
   "name": "python3"
  },
  "language_info": {
   "codemirror_mode": {
    "name": "ipython",
    "version": 3
   },
   "file_extension": ".py",
   "mimetype": "text/x-python",
   "name": "python",
   "nbconvert_exporter": "python",
   "pygments_lexer": "ipython3",
   "version": "3.13.5"
  }
 },
 "nbformat": 4,
 "nbformat_minor": 5
}
