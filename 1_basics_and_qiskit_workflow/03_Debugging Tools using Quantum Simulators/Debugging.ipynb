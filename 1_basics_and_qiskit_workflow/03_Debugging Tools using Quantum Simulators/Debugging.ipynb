{
 "cells": [
  {
   "cell_type": "markdown",
   "id": "4ab92995-fd5a-4200-ba43-4283e75b97ce",
   "metadata": {},
   "source": [
    "# Debugging Tools using Quantum Simulators"
   ]
  },
  {
   "cell_type": "markdown",
   "id": "14dbbed1-e17d-43ae-ab75-03a43c7a0486",
   "metadata": {},
   "source": [
    "For testing, we run the quantum programs in several ways such as using fake backends, reference primitives, Aer simulators and creating stabilizied circuits."
   ]
  },
  {
   "cell_type": "markdown",
   "id": "8af1e0f4-6dde-41b8-85ef-e69463298a7b",
   "metadata": {},
   "source": [
    "## Fake Backends"
   ]
  },
  {
   "cell_type": "markdown",
   "id": "9eb6e026-2eb3-487e-8db5-b3a704dc1d1d",
   "metadata": {},
   "source": [
    "Using Fake Backends from \"qiskit_ibm_runtime.fake_provider\" module."
   ]
  },
  {
   "cell_type": "code",
   "execution_count": 10,
   "id": "251cc657-7522-4f0b-b3a3-e026f09d8efc",
   "metadata": {},
   "outputs": [
    {
     "name": "stdout",
     "output_type": "stream",
     "text": [
      "Counts: {'11': 457, '00': 503, '01': 27, '10': 37}\n"
     ]
    }
   ],
   "source": [
    "#Working with Sampler primitive only\n",
    "from qiskit.circuit import QuantumCircuit\n",
    "from qiskit import transpile\n",
    "from qiskit_ibm_runtime import SamplerV2 as Sampler\n",
    "from qiskit_ibm_runtime.fake_provider import FakeManilaV2\n",
    "\n",
    "fake_manila = FakeManilaV2()\n",
    "\n",
    "# Bell Circuit (|00> + |11>)\n",
    "qc = QuantumCircuit(2)\n",
    "qc.h(0)\n",
    "qc.cx(0, 1)\n",
    "qc.measure_all()\n",
    " \n",
    "# transpilation\n",
    "isa_qc = transpile(qc, backend = fake_manila, optimization_level =1)\n",
    " \n",
    "# You can use a fixed seed to get fixed results.\n",
    "options = {\"simulator\": {\"seed_simulator\": 42}}\n",
    "sampler = Sampler(mode=fake_manila, options=options)\n",
    " \n",
    "result = sampler.run([isa_qc]).result()\n",
    "data = result[0].data\n",
    "counts = data.meas.get_counts()\n",
    "print(f\"Counts: {counts}\")"
   ]
  },
  {
   "cell_type": "markdown",
   "id": "fc85ee74-9c4f-493a-83a2-7e81ad7bcdb9",
   "metadata": {},
   "source": [
    "Theoretically, we should get zero for 01 and 10. Due to errors in quantum computing, we get nonzero values. This method thus also models noise."
   ]
  },
  {
   "cell_type": "markdown",
   "id": "e8d413f1-4497-480c-b352-0eeeb3721825",
   "metadata": {},
   "source": [
    "## Reference Primitives"
   ]
  },
  {
   "cell_type": "code",
   "execution_count": 11,
   "id": "afaeb079-b6bc-4637-97e1-1d7d1a4f767d",
   "metadata": {},
   "outputs": [
    {
     "name": "stdout",
     "output_type": "stream",
     "text": [
      "Counts: {'00': 494, '11': 530}\n"
     ]
    }
   ],
   "source": [
    "#using only Sampler primitive\n",
    "from qiskit.circuit import QuantumCircuit\n",
    "from qiskit.primitives import StatevectorSampler\n",
    " \n",
    "sampler = StatevectorSampler()\n",
    " \n",
    "# Bell Circuit (|00> + |11>)\n",
    "qc = QuantumCircuit(2)\n",
    "qc.h(0)\n",
    "qc.cx(0, 1)\n",
    "qc.measure_all()\n",
    "\n",
    "# execute circuit with Sampler\n",
    "job = sampler.run([qc])\n",
    "result = job.result()\n",
    "data = result[0].data\n",
    "counts = data.meas.get_counts()\n",
    "print(f\"Counts: {counts}\")\n"
   ]
  },
  {
   "cell_type": "markdown",
   "id": "e1e607fe-7b0f-4b38-977b-7e4eac0e4b71",
   "metadata": {},
   "source": [
    "This method does not support modelling device noise. So, we see the values of 01 and 10 states are exactly zero. "
   ]
  },
  {
   "cell_type": "markdown",
   "id": "36d05181-a269-4c0e-af83-638773418cac",
   "metadata": {},
   "source": [
    "## Qiskit Aer "
   ]
  },
  {
   "cell_type": "markdown",
   "id": "0c6ae306-9322-49af-bdfa-c0f2e51e9dd8",
   "metadata": {},
   "source": [
    "QiskitAer - A high-performance Qcircuit simulator that we can use in place of reference primitives for better performance and implementing device noise."
   ]
  },
  {
   "cell_type": "code",
   "execution_count": 14,
   "id": "28a2f481-03d0-4cd4-8c9c-4c56e3ddec27",
   "metadata": {},
   "outputs": [
    {
     "name": "stdout",
     "output_type": "stream",
     "text": [
      "Counts: {'00': 536, '11': 488}\n"
     ]
    }
   ],
   "source": [
    "#Using Sampler primitive only\n",
    "from qiskit import QuantumCircuit,transpile\n",
    "from qiskit_aer import AerSimulator\n",
    "from qiskit_aer.primitives import SamplerV2 \n",
    "\n",
    "sampler = SamplerV2()\n",
    "\n",
    "# Step 1: Create a simple circuit\n",
    "qc = QuantumCircuit(2)\n",
    "qc.h(0)\n",
    "qc.cx(0, 1)\n",
    "qc.measure_all()\n",
    "\n",
    "# execute circuit with Sampler\n",
    "job = sampler.run([qc])\n",
    "result = job.result()\n",
    "data = result[0].data\n",
    "counts = data.meas.get_counts()\n",
    "print(f\"Counts: {counts}\")"
   ]
  },
  {
   "cell_type": "markdown",
   "id": "878edc79-820d-4905-b09a-861d9dec9257",
   "metadata": {},
   "source": [
    "In above code, there is no noise in the system. One can implement noise models as well using this QiskiAer module."
   ]
  },
  {
   "cell_type": "code",
   "execution_count": 22,
   "id": "3e179bdc-b592-47d7-8dde-71b7832214cd",
   "metadata": {},
   "outputs": [
    {
     "name": "stdout",
     "output_type": "stream",
     "text": [
      "Counts: {'11': 510, '00': 506, '10': 6, '01': 2}\n"
     ]
    }
   ],
   "source": [
    "from qiskit import QuantumCircuit,transpile\n",
    "from qiskit_aer import AerSimulator\n",
    "from qiskit_aer.primitives import SamplerV2 as Sampler\n",
    "from qiskit_aer.noise import NoiseModel,depolarizing_error\n",
    "\n",
    "#Noise Model\n",
    "noise_model = NoiseModel()\n",
    "cx_depolarizing_prob = 0.02\n",
    "noise_model.add_all_qubit_quantum_error(\n",
    "    depolarizing_error(cx_depolarizing_prob, 2), [\"cx\"]\n",
    ")\n",
    "\n",
    "noisy_sampler = Sampler(options=dict(backend_options=dict(noise_model=noise_model)))\n",
    "\n",
    "# Create a simple circuit\n",
    "qc = QuantumCircuit(2)\n",
    "qc.h(0)\n",
    "qc.cx(0, 1)\n",
    "qc.measure_all()\n",
    "\n",
    "# execute circuit with Sampler\n",
    "job = noisy_sampler.run([qc])\n",
    "result = job.result()\n",
    "data = result[0].data\n",
    "counts = data.meas.get_counts()\n",
    "print(f\"Counts: {counts}\")"
   ]
  },
  {
   "cell_type": "markdown",
   "id": "4bbc8cca-ef7a-431d-b3b7-e28d27982839",
   "metadata": {},
   "source": [
    "After incorporting Noise model, we get nonzero values for 01 and 10 states."
   ]
  },
  {
   "cell_type": "markdown",
   "id": "37fe53ac-4dcf-411e-abf0-1c7765754fe3",
   "metadata": {},
   "source": [
    "## Stabilizer Circuits"
   ]
  },
  {
   "cell_type": "markdown",
   "id": "e8e3ff67-5733-425a-b8c6-0ea03d1df49a",
   "metadata": {},
   "source": [
    "Stabilizer or Clifford circuits, are an important restricted class of quantum circuits that can be efficiently simulated classically."
   ]
  },
  {
   "cell_type": "code",
   "execution_count": null,
   "id": "6ab23f10-d4de-455e-a087-d20d61f8d271",
   "metadata": {},
   "outputs": [],
   "source": []
  }
 ],
 "metadata": {
  "kernelspec": {
   "display_name": "Python 3 (ipykernel)",
   "language": "python",
   "name": "python3"
  },
  "language_info": {
   "codemirror_mode": {
    "name": "ipython",
    "version": 3
   },
   "file_extension": ".py",
   "mimetype": "text/x-python",
   "name": "python",
   "nbconvert_exporter": "python",
   "pygments_lexer": "ipython3",
   "version": "3.13.5"
  }
 },
 "nbformat": 4,
 "nbformat_minor": 5
}
