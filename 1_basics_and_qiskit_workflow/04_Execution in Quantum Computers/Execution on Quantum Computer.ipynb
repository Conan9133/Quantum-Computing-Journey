{
 "cells": [
  {
   "cell_type": "markdown",
   "id": "17a5e7a3-b70e-4655-a380-a9d2983907d1",
   "metadata": {},
   "source": [
    "# Running a simple program through real Quantum Computer"
   ]
  },
  {
   "cell_type": "markdown",
   "id": "84aaf50e-e170-4919-8c26-a75d3effb4dd",
   "metadata": {},
   "source": [
    "## Executing a program in Simulator (AerSimulator)"
   ]
  },
  {
   "cell_type": "code",
   "execution_count": 7,
   "id": "7f9065f0-7fba-41f0-9524-444c731fb9c5",
   "metadata": {},
   "outputs": [
    {
     "name": "stdout",
     "output_type": "stream",
     "text": [
      "Measurement Results: {'00': 499, '11': 525}\n"
     ]
    },
    {
     "data": {
      "image/png": "[encoded data removed]",
      "text/plain": [
       "<Figure size 454.517x284.278 with 1 Axes>"
      ]
     },
     "metadata": {},
     "output_type": "display_data"
    },
    {
     "data": {
      "image/png": "[encoded data removed]",
      "text/plain": [
       "<Figure size 640x480 with 1 Axes>"
      ]
     },
     "metadata": {},
     "output_type": "display_data"
    }
   ],
   "source": [
    "from qiskit import QuantumCircuit, transpile\n",
    "from qiskit.visualization import plot_histogram\n",
    "from qiskit_aer import AerSimulator\n",
    "import matplotlib.pyplot as plt\n",
    "\n",
    "%matplotlib inline\n",
    "# -------------------------------\n",
    "# STEP 1: Create a Quantum Circuit\n",
    "# Example: Bell State Circuit\n",
    "# -------------------------------\n",
    "\n",
    "qc = QuantumCircuit(2, 2)\n",
    "qc.h(0)\n",
    "qc.cx(0, 1)\n",
    "qc.measure([0, 1], [0, 1])\n",
    "\n",
    "qc.draw(\"mpl\")  # Optional: shows circuit diagram\n",
    "\n",
    "#STEP 2: Select the simulator\n",
    "simulator = AerSimulator()\n",
    "\n",
    "# STEP 3: Transpile the Circuit for the Simulator\n",
    "\n",
    "transpiled_qc = transpile(qc, backend=simulator, optimization_level=3)\n",
    "\n",
    "# STEP 4: Run the Circuit on the Simulator\n",
    "\n",
    "job = simulator.run(transpiled_qc, shots=1024)\n",
    "\n",
    "# STEP 5: Retrieve and Display Results\n",
    "\n",
    "result = job.result()\n",
    "counts = result.get_counts()\n",
    "\n",
    "print(\"Measurement Results:\", counts)\n",
    "plot_histogram(counts)\n",
    "plt.show()\n",
    "\n"
   ]
  },
  {
   "cell_type": "markdown",
   "id": "d8069693-b98d-402c-9bf3-3944ddd6607d",
   "metadata": {},
   "source": [
    "Theoretical result should be half and half. Means 499 for |00> and 525 for |11> states. But due to errors, we find there are not equal. The probabilties are 0.4658 for |00> state and 0.5342 for |11> state."
   ]
  },
  {
   "cell_type": "markdown",
   "id": "2268a86a-1b23-4d5d-9c77-034e2f7c8de8",
   "metadata": {},
   "source": [
    "## Running the same program in real Quantum Computer"
   ]
  },
  {
   "cell_type": "markdown",
   "id": "ba1ef642-3e41-4f9e-888a-0926c9eaf76d",
   "metadata": {},
   "source": [
    "#### Setting up the account (Initialization)"
   ]
  },
  {
   "cell_type": "markdown",
   "id": "ec18db0b-68b3-47e5-82a9-6a005ea16ba1",
   "metadata": {},
   "source": [
    "Save Your Token in Qiskit\n",
    "\n",
    "For this, you need to create an account in IBM Quantum Cloud. From the account, you find token and instance.\n",
    "\n",
    "For \"token\", click on \"Access(IAM)\" present in \"Manage\" option. Then, click on \"API keys\" present on sidebar of site. Then, click on \"create\" API key to create new API key. After creating, you will find your token.\n",
    "\n",
    "For instance, click on \"https://quantum.cloud.ibm.com/instances\" (login with same credentials) and then click on \"create\" instance.\n"
   ]
  },
  {
   "cell_type": "code",
   "execution_count": 2,
   "id": "f61bdf18-8220-4193-bdf3-a750078c2a2e",
   "metadata": {},
   "outputs": [],
   "source": [
    "from qiskit_ibm_runtime import QiskitRuntimeService\n",
    "\n",
    "QiskitRuntimeService.save_account(channel=\"ibm_cloud\", token=\"h7EB2SGF-uUbCxYnhDB3_cIDwKmLaYGlXPmwTFhkoQsD\",instance = \"crn:v1:bluemix:public:quantum-computing:us-east:a/ee7facfcce9b47bb9b4b678661d0af5f:28256104-eca4-4c1e-be6f-7c84869b9e51::\",overwrite = True)\n"
   ]
  },
  {
   "cell_type": "markdown",
   "id": "cc2faf2e-e57a-4ec1-a50f-1746a15d09c3",
   "metadata": {
    "jp-MarkdownHeadingCollapsed": true
   },
   "source": [
    "#### Using IBMProvider (for older versions)"
   ]
  },
  {
   "cell_type": "markdown",
   "id": "0e5154a1-5ccf-4ee0-a6f0-d29af70f3b23",
   "metadata": {},
   "source": [
    "Load the Provider in Future Sessions"
   ]
  },
  {
   "cell_type": "code",
   "execution_count": 14,
   "id": "250d6aca-aba3-4d72-b15b-34a42a09e82e",
   "metadata": {},
   "outputs": [],
   "source": [
    "provider = IBMProvider()"
   ]
  },
  {
   "cell_type": "markdown",
   "id": "363161f2-01d2-42a3-98e8-7d9d3f881d34",
   "metadata": {},
   "source": [
    "Checking available backends "
   ]
  },
  {
   "cell_type": "code",
   "execution_count": 15,
   "id": "0c9a73f0-7f8b-481a-9286-4b64309a93be",
   "metadata": {},
   "outputs": [
    {
     "name": "stdout",
     "output_type": "stream",
     "text": [
      "['ibm_brisbane', 'ibm_sherbrooke']\n"
     ]
    }
   ],
   "source": [
    "print([backend.name for backend in provider.backends()])\n"
   ]
  },
  {
   "cell_type": "markdown",
   "id": "9646a0b9-67c9-49b7-b72c-1ac14ebc31de",
   "metadata": {},
   "source": [
    "Implemeting same program in real quantum computer"
   ]
  },
  {
   "cell_type": "code",
   "execution_count": 18,
   "id": "a267e9e2-700e-402f-bb96-9a62dac1216c",
   "metadata": {},
   "outputs": [
    {
     "ename": "IBMBackendApiError",
     "evalue": "'Error submitting job: \\'404 Client Error: Not Found for url: https://api.quantum.ibm.com/runtime/jobs. {\"errors\":[{\"code\":1211,\"message\":\"Program not found.\",\"solution\":\"Make sure you use a valid program name, such as \\\\\\'sampler\\\\\\' or \\\\\\'estimator\\\\\\'. Qiskit Runtime no longer supports the \\\\\\'backend.run\\\\\\' interface. Refer to the migration guide (https://docs.quantum.ibm.com/migration-guides/qiskit-runtime) for instructions to migrate to the primitives.\",\"more_info\":\"https://docs.quantum-computing.ibm.com/errors\"}]}\\''",
     "output_type": "error",
     "traceback": [
      "\u001b[1;31m---------------------------------------------------------------------------\u001b[0m",
      "\u001b[1;31mHTTPError\u001b[0m                                 Traceback (most recent call last)",
      "File \u001b[1;32m~\\AppData\\Local\\anaconda3\\Anaconda33\\Lib\\site-packages\\qiskit_ibm_provider\\api\\session.py:264\u001b[0m, in \u001b[0;36mRetrySession.request\u001b[1;34m(self, method, url, bare, **kwargs)\u001b[0m\n\u001b[0;32m    263\u001b[0m     response \u001b[38;5;241m=\u001b[39m \u001b[38;5;28msuper\u001b[39m()\u001b[38;5;241m.\u001b[39mrequest(method, final_url, headers\u001b[38;5;241m=\u001b[39mheaders, \u001b[38;5;241m*\u001b[39m\u001b[38;5;241m*\u001b[39mkwargs)\n\u001b[1;32m--> 264\u001b[0m     response\u001b[38;5;241m.\u001b[39mraise_for_status()\n\u001b[0;32m    265\u001b[0m \u001b[38;5;28;01mexcept\u001b[39;00m RequestException \u001b[38;5;28;01mas\u001b[39;00m ex:\n\u001b[0;32m    266\u001b[0m     \u001b[38;5;66;03m# Wrap the requests exceptions into a IBM Q custom one, for\u001b[39;00m\n\u001b[0;32m    267\u001b[0m     \u001b[38;5;66;03m# compatibility.\u001b[39;00m\n",
      "File \u001b[1;32m~\\AppData\\Local\\anaconda3\\Anaconda33\\Lib\\site-packages\\requests\\models.py:1024\u001b[0m, in \u001b[0;36mResponse.raise_for_status\u001b[1;34m(self)\u001b[0m\n\u001b[0;32m   1023\u001b[0m \u001b[38;5;28;01mif\u001b[39;00m http_error_msg:\n\u001b[1;32m-> 1024\u001b[0m     \u001b[38;5;28;01mraise\u001b[39;00m HTTPError(http_error_msg, response\u001b[38;5;241m=\u001b[39m\u001b[38;5;28mself\u001b[39m)\n",
      "\u001b[1;31mHTTPError\u001b[0m: 404 Client Error: Not Found for url: https://api.quantum.ibm.com/runtime/jobs",
      "\nThe above exception was the direct cause of the following exception:\n",
      "\u001b[1;31mRequestsApiError\u001b[0m                          Traceback (most recent call last)",
      "File \u001b[1;32m~\\AppData\\Local\\anaconda3\\Anaconda33\\Lib\\site-packages\\qiskit_ibm_provider\\ibm_backend.py:521\u001b[0m, in \u001b[0;36mIBMBackend._runtime_run\u001b[1;34m(self, program_id, inputs, backend_name, job_tags, image)\u001b[0m\n\u001b[0;32m    520\u001b[0m \u001b[38;5;28;01mtry\u001b[39;00m:\n\u001b[1;32m--> 521\u001b[0m     response \u001b[38;5;241m=\u001b[39m \u001b[38;5;28mself\u001b[39m\u001b[38;5;241m.\u001b[39mprovider\u001b[38;5;241m.\u001b[39m_runtime_client\u001b[38;5;241m.\u001b[39mprogram_run(\n\u001b[0;32m    522\u001b[0m         program_id\u001b[38;5;241m=\u001b[39mprogram_id,\n\u001b[0;32m    523\u001b[0m         backend_name\u001b[38;5;241m=\u001b[39mbackend_name,\n\u001b[0;32m    524\u001b[0m         params\u001b[38;5;241m=\u001b[39minputs,\n\u001b[0;32m    525\u001b[0m         hgp\u001b[38;5;241m=\u001b[39mhgp_name,\n\u001b[0;32m    526\u001b[0m         job_tags\u001b[38;5;241m=\u001b[39mjob_tags,\n\u001b[0;32m    527\u001b[0m         session_id\u001b[38;5;241m=\u001b[39msession_id,\n\u001b[0;32m    528\u001b[0m         start_session\u001b[38;5;241m=\u001b[39m\u001b[38;5;28;01mFalse\u001b[39;00m,\n\u001b[0;32m    529\u001b[0m         image\u001b[38;5;241m=\u001b[39mimage,\n\u001b[0;32m    530\u001b[0m     )\n\u001b[0;32m    531\u001b[0m \u001b[38;5;28;01mexcept\u001b[39;00m RequestsApiError \u001b[38;5;28;01mas\u001b[39;00m ex:\n",
      "File \u001b[1;32m~\\AppData\\Local\\anaconda3\\Anaconda33\\Lib\\site-packages\\qiskit_ibm_provider\\api\\clients\\runtime.py:141\u001b[0m, in \u001b[0;36mRuntimeClient.program_run\u001b[1;34m(self, program_id, backend_name, params, image, hgp, log_level, session_id, job_tags, max_execution_time, session_time, start_session)\u001b[0m\n\u001b[0;32m    140\u001b[0m     hgp_dict \u001b[38;5;241m=\u001b[39m {\u001b[38;5;124m\"\u001b[39m\u001b[38;5;124mhub\u001b[39m\u001b[38;5;124m\"\u001b[39m: hub, \u001b[38;5;124m\"\u001b[39m\u001b[38;5;124mgroup\u001b[39m\u001b[38;5;124m\"\u001b[39m: group, \u001b[38;5;124m\"\u001b[39m\u001b[38;5;124mproject\u001b[39m\u001b[38;5;124m\"\u001b[39m: project}\n\u001b[1;32m--> 141\u001b[0m \u001b[38;5;28;01mreturn\u001b[39;00m \u001b[38;5;28mself\u001b[39m\u001b[38;5;241m.\u001b[39m_api\u001b[38;5;241m.\u001b[39mprogram_run(\n\u001b[0;32m    142\u001b[0m     program_id\u001b[38;5;241m=\u001b[39mprogram_id,\n\u001b[0;32m    143\u001b[0m     backend_name\u001b[38;5;241m=\u001b[39mbackend_name,\n\u001b[0;32m    144\u001b[0m     params\u001b[38;5;241m=\u001b[39mparams,\n\u001b[0;32m    145\u001b[0m     image\u001b[38;5;241m=\u001b[39mimage,\n\u001b[0;32m    146\u001b[0m     log_level\u001b[38;5;241m=\u001b[39mlog_level,\n\u001b[0;32m    147\u001b[0m     session_id\u001b[38;5;241m=\u001b[39msession_id,\n\u001b[0;32m    148\u001b[0m     job_tags\u001b[38;5;241m=\u001b[39mjob_tags,\n\u001b[0;32m    149\u001b[0m     max_execution_time\u001b[38;5;241m=\u001b[39mmax_execution_time,\n\u001b[0;32m    150\u001b[0m     start_session\u001b[38;5;241m=\u001b[39mstart_session,\n\u001b[0;32m    151\u001b[0m     session_time\u001b[38;5;241m=\u001b[39msession_time,\n\u001b[0;32m    152\u001b[0m     \u001b[38;5;241m*\u001b[39m\u001b[38;5;241m*\u001b[39mhgp_dict\n\u001b[0;32m    153\u001b[0m )\n",
      "File \u001b[1;32m~\\AppData\\Local\\anaconda3\\Anaconda33\\Lib\\site-packages\\qiskit_ibm_provider\\api\\rest\\runtime.py:134\u001b[0m, in \u001b[0;36mRuntime.program_run\u001b[1;34m(self, program_id, backend_name, params, image, hub, group, project, log_level, session_id, job_tags, max_execution_time, session_time, start_session)\u001b[0m\n\u001b[0;32m    133\u001b[0m data \u001b[38;5;241m=\u001b[39m json\u001b[38;5;241m.\u001b[39mdumps(payload, \u001b[38;5;28mcls\u001b[39m\u001b[38;5;241m=\u001b[39mRuntimeEncoder)\n\u001b[1;32m--> 134\u001b[0m \u001b[38;5;28;01mreturn\u001b[39;00m \u001b[38;5;28mself\u001b[39m\u001b[38;5;241m.\u001b[39msession\u001b[38;5;241m.\u001b[39mpost(url, data\u001b[38;5;241m=\u001b[39mdata, timeout\u001b[38;5;241m=\u001b[39m\u001b[38;5;241m900\u001b[39m)\u001b[38;5;241m.\u001b[39mjson()\n",
      "File \u001b[1;32m~\\AppData\\Local\\anaconda3\\Anaconda33\\Lib\\site-packages\\requests\\sessions.py:637\u001b[0m, in \u001b[0;36mSession.post\u001b[1;34m(self, url, data, json, **kwargs)\u001b[0m\n\u001b[0;32m    627\u001b[0m \u001b[38;5;250m\u001b[39m\u001b[38;5;124mr\u001b[39m\u001b[38;5;124;03m\"\"\"Sends a POST request. Returns :class:`Response` object.\u001b[39;00m\n\u001b[0;32m    628\u001b[0m \n\u001b[0;32m    629\u001b[0m \u001b[38;5;124;03m:param url: URL for the new :class:`Request` object.\u001b[39;00m\n\u001b[1;32m   (...)\u001b[0m\n\u001b[0;32m    634\u001b[0m \u001b[38;5;124;03m:rtype: requests.Response\u001b[39;00m\n\u001b[0;32m    635\u001b[0m \u001b[38;5;124;03m\"\"\"\u001b[39;00m\n\u001b[1;32m--> 637\u001b[0m \u001b[38;5;28;01mreturn\u001b[39;00m \u001b[38;5;28mself\u001b[39m\u001b[38;5;241m.\u001b[39mrequest(\u001b[38;5;124m\"\u001b[39m\u001b[38;5;124mPOST\u001b[39m\u001b[38;5;124m\"\u001b[39m, url, data\u001b[38;5;241m=\u001b[39mdata, json\u001b[38;5;241m=\u001b[39mjson, \u001b[38;5;241m*\u001b[39m\u001b[38;5;241m*\u001b[39mkwargs)\n",
      "File \u001b[1;32m~\\AppData\\Local\\anaconda3\\Anaconda33\\Lib\\site-packages\\qiskit_ibm_provider\\api\\session.py:285\u001b[0m, in \u001b[0;36mRetrySession.request\u001b[1;34m(self, method, url, bare, **kwargs)\u001b[0m\n\u001b[0;32m    283\u001b[0m             message \u001b[38;5;241m+\u001b[39m\u001b[38;5;241m=\u001b[39m \u001b[38;5;124mf\u001b[39m\u001b[38;5;124m\"\u001b[39m\u001b[38;5;124m. \u001b[39m\u001b[38;5;132;01m{\u001b[39;00mex\u001b[38;5;241m.\u001b[39mresponse\u001b[38;5;241m.\u001b[39mtext\u001b[38;5;132;01m}\u001b[39;00m\u001b[38;5;124m\"\u001b[39m\n\u001b[1;32m--> 285\u001b[0m     \u001b[38;5;28;01mraise\u001b[39;00m RequestsApiError(message, status_code) \u001b[38;5;28;01mfrom\u001b[39;00m \u001b[38;5;21;01mex\u001b[39;00m\n\u001b[0;32m    287\u001b[0m \u001b[38;5;28;01mreturn\u001b[39;00m response\n",
      "\u001b[1;31mRequestsApiError\u001b[0m: '404 Client Error: Not Found for url: https://api.quantum.ibm.com/runtime/jobs. {\"errors\":[{\"code\":1211,\"message\":\"Program not found.\",\"solution\":\"Make sure you use a valid program name, such as \\'sampler\\' or \\'estimator\\'. Qiskit Runtime no longer supports the \\'backend.run\\' interface. Refer to the migration guide (https://docs.quantum.ibm.com/migration-guides/qiskit-runtime) for instructions to migrate to the primitives.\",\"more_info\":\"https://docs.quantum-computing.ibm.com/errors\"}]}'",
      "\nThe above exception was the direct cause of the following exception:\n",
      "\u001b[1;31mIBMBackendApiError\u001b[0m                        Traceback (most recent call last)",
      "Cell \u001b[1;32mIn[18], line 56\u001b[0m\n\u001b[0;32m     50\u001b[0m transpiled_qc \u001b[38;5;241m=\u001b[39m transpile(qc, backend\u001b[38;5;241m=\u001b[39mbackend, optimization_level\u001b[38;5;241m=\u001b[39m\u001b[38;5;241m3\u001b[39m)\n\u001b[0;32m     52\u001b[0m \u001b[38;5;66;03m# -------------------------------\u001b[39;00m\n\u001b[0;32m     53\u001b[0m \u001b[38;5;66;03m# STEP 5: Run the Circuit on the Backend\u001b[39;00m\n\u001b[0;32m     54\u001b[0m \u001b[38;5;66;03m# -------------------------------\u001b[39;00m\n\u001b[1;32m---> 56\u001b[0m job \u001b[38;5;241m=\u001b[39m backend\u001b[38;5;241m.\u001b[39mrun(transpiled_qc, shots\u001b[38;5;241m=\u001b[39m\u001b[38;5;241m1024\u001b[39m)\n\u001b[0;32m     57\u001b[0m \u001b[38;5;66;03m#job.status()  # Track job status\u001b[39;00m\n\u001b[0;32m     58\u001b[0m \n\u001b[0;32m     59\u001b[0m \u001b[38;5;66;03m# -------------------------------\u001b[39;00m\n\u001b[0;32m     60\u001b[0m \u001b[38;5;66;03m# STEP 6: Retrieve and Display Results\u001b[39;00m\n\u001b[0;32m     61\u001b[0m \u001b[38;5;66;03m# -------------------------------\u001b[39;00m\n\u001b[0;32m     63\u001b[0m result \u001b[38;5;241m=\u001b[39m job\u001b[38;5;241m.\u001b[39mresult()\n",
      "File \u001b[1;32m~\\AppData\\Local\\anaconda3\\Anaconda33\\Lib\\site-packages\\qiskit_ibm_provider\\ibm_backend.py:495\u001b[0m, in \u001b[0;36mIBMBackend.run\u001b[1;34m(self, circuits, dynamic, job_tags, init_circuit, init_num_resets, header, shots, memory, meas_level, meas_return, rep_delay, init_qubits, use_measure_esp, noise_model, seed_simulator, **run_config)\u001b[0m\n\u001b[0;32m    491\u001b[0m \u001b[38;5;28;01mif\u001b[39;00m \u001b[38;5;129;01mnot\u001b[39;00m program_id\u001b[38;5;241m.\u001b[39mstartswith(QASM3RUNNERPROGRAMID):\n\u001b[0;32m    492\u001b[0m     \u001b[38;5;66;03m# Transpiling in circuit-runner is deprecated.\u001b[39;00m\n\u001b[0;32m    493\u001b[0m     run_config_dict[\u001b[38;5;124m\"\u001b[39m\u001b[38;5;124mskip_transpilation\u001b[39m\u001b[38;5;124m\"\u001b[39m] \u001b[38;5;241m=\u001b[39m \u001b[38;5;28;01mTrue\u001b[39;00m\n\u001b[1;32m--> 495\u001b[0m \u001b[38;5;28;01mreturn\u001b[39;00m \u001b[38;5;28mself\u001b[39m\u001b[38;5;241m.\u001b[39m_runtime_run(\n\u001b[0;32m    496\u001b[0m     program_id\u001b[38;5;241m=\u001b[39mprogram_id,\n\u001b[0;32m    497\u001b[0m     inputs\u001b[38;5;241m=\u001b[39mrun_config_dict,\n\u001b[0;32m    498\u001b[0m     backend_name\u001b[38;5;241m=\u001b[39m\u001b[38;5;28mself\u001b[39m\u001b[38;5;241m.\u001b[39mname,\n\u001b[0;32m    499\u001b[0m     job_tags\u001b[38;5;241m=\u001b[39mjob_tags,\n\u001b[0;32m    500\u001b[0m     image\u001b[38;5;241m=\u001b[39mimage,\n\u001b[0;32m    501\u001b[0m )\n",
      "File \u001b[1;32m~\\AppData\\Local\\anaconda3\\Anaconda33\\Lib\\site-packages\\qiskit_ibm_provider\\ibm_backend.py:532\u001b[0m, in \u001b[0;36mIBMBackend._runtime_run\u001b[1;34m(self, program_id, inputs, backend_name, job_tags, image)\u001b[0m\n\u001b[0;32m    521\u001b[0m     response \u001b[38;5;241m=\u001b[39m \u001b[38;5;28mself\u001b[39m\u001b[38;5;241m.\u001b[39mprovider\u001b[38;5;241m.\u001b[39m_runtime_client\u001b[38;5;241m.\u001b[39mprogram_run(\n\u001b[0;32m    522\u001b[0m         program_id\u001b[38;5;241m=\u001b[39mprogram_id,\n\u001b[0;32m    523\u001b[0m         backend_name\u001b[38;5;241m=\u001b[39mbackend_name,\n\u001b[1;32m   (...)\u001b[0m\n\u001b[0;32m    529\u001b[0m         image\u001b[38;5;241m=\u001b[39mimage,\n\u001b[0;32m    530\u001b[0m     )\n\u001b[0;32m    531\u001b[0m \u001b[38;5;28;01mexcept\u001b[39;00m RequestsApiError \u001b[38;5;28;01mas\u001b[39;00m ex:\n\u001b[1;32m--> 532\u001b[0m     \u001b[38;5;28;01mraise\u001b[39;00m IBMBackendApiError(\u001b[38;5;124m\"\u001b[39m\u001b[38;5;124mError submitting job: \u001b[39m\u001b[38;5;132;01m{}\u001b[39;00m\u001b[38;5;124m\"\u001b[39m\u001b[38;5;241m.\u001b[39mformat(\u001b[38;5;28mstr\u001b[39m(ex))) \u001b[38;5;28;01mfrom\u001b[39;00m \u001b[38;5;21;01mex\u001b[39;00m\n\u001b[0;32m    533\u001b[0m \u001b[38;5;28;01mtry\u001b[39;00m:\n\u001b[0;32m    534\u001b[0m     job \u001b[38;5;241m=\u001b[39m IBMCircuitJob(\n\u001b[0;32m    535\u001b[0m         backend\u001b[38;5;241m=\u001b[39m\u001b[38;5;28mself\u001b[39m,\n\u001b[0;32m    536\u001b[0m         api_client\u001b[38;5;241m=\u001b[39m\u001b[38;5;28mself\u001b[39m\u001b[38;5;241m.\u001b[39m_api_client,\n\u001b[1;32m   (...)\u001b[0m\n\u001b[0;32m    539\u001b[0m         session_id\u001b[38;5;241m=\u001b[39msession_id,\n\u001b[0;32m    540\u001b[0m     )\n",
      "\u001b[1;31mIBMBackendApiError\u001b[0m: 'Error submitting job: \\'404 Client Error: Not Found for url: https://api.quantum.ibm.com/runtime/jobs. {\"errors\":[{\"code\":1211,\"message\":\"Program not found.\",\"solution\":\"Make sure you use a valid program name, such as \\\\\\'sampler\\\\\\' or \\\\\\'estimator\\\\\\'. Qiskit Runtime no longer supports the \\\\\\'backend.run\\\\\\' interface. Refer to the migration guide (https://docs.quantum.ibm.com/migration-guides/qiskit-runtime) for instructions to migrate to the primitives.\",\"more_info\":\"https://docs.quantum-computing.ibm.com/errors\"}]}\\''"
     ]
    }
   ],
   "source": [
    "# -------------------------------\n",
    "# STEP 0: Install Required Packages (if needed)\n",
    "# pip install qiskit qiskit-ibm-provider matplotlib\n",
    "# -------------------------------\n",
    "\n",
    "from qiskit import QuantumCircuit, transpile\n",
    "from qiskit_ibm_provider import IBMProvider\n",
    "from qiskit.visualization import plot_histogram\n",
    "#from qiskit.tools.monitor import job_monitor\n",
    "import matplotlib.pyplot as plt\n",
    "\n",
    "# -------------------------------\n",
    "# STEP 1: Save and Load Your IBM Token\n",
    "# NOTE: Only run save_account() ONCE. Comment it afterward.\n",
    "# -------------------------------\n",
    "\n",
    "# Replace with your IBM Quantum token\n",
    "# IBMProvider.save_account(token=\"YOUR_IBM_QUANTUM_TOKEN\", overwrite=True)\n",
    "\n",
    "# Load your account and provider\n",
    "provider = IBMProvider()\n",
    "\n",
    "# -------------------------------\n",
    "# STEP 2: Choose Backend\n",
    "# Use either a real quantum device or simulator\n",
    "# -------------------------------\n",
    "\n",
    "# For real hardware (may have queue):\n",
    "backend = provider.get_backend(\"ibm_brisbane\")\n",
    "\n",
    "# For fast simulator testing:\n",
    "# backend = provider.get_backend(\"ibmq_qasm_simulator\")\n",
    "\n",
    "# -------------------------------\n",
    "# STEP 3: Create a Quantum Circuit\n",
    "# Example: Bell State Circuit\n",
    "# -------------------------------\n",
    "\n",
    "qc = QuantumCircuit(2, 2)\n",
    "qc.h(0)\n",
    "qc.cx(0, 1)\n",
    "qc.measure([0, 1], [0, 1])\n",
    "\n",
    "qc.draw(\"mpl\")  # Optional: shows circuit diagram\n",
    "\n",
    "# -------------------------------\n",
    "# STEP 4: Transpile the Circuit for the Backend\n",
    "# -------------------------------\n",
    "\n",
    "transpiled_qc = transpile(qc, backend=backend, optimization_level=3)\n",
    "\n",
    "# -------------------------------\n",
    "# STEP 5: Run the Circuit on the Backend\n",
    "# -------------------------------\n",
    "\n",
    "job = backend.run(transpiled_qc, shots=1024)\n",
    "#job.status()  # Track job status\n",
    "\n",
    "# -------------------------------\n",
    "# STEP 6: Retrieve and Display Results\n",
    "# -------------------------------\n",
    "\n",
    "result = job.result()\n",
    "counts = result.get_counts()\n",
    "\n",
    "print(\"Measurement Results:\", counts)\n",
    "plot_histogram(counts)\n",
    "plt.show()\n"
   ]
  },
  {
   "cell_type": "markdown",
   "id": "0a598672-256b-473e-a553-25261cfe7c3b",
   "metadata": {},
   "source": [
    "Because of Qiskit changes, IBM Provider is not needed to load your account. It can be done using QiskitIBMruntime only."
   ]
  },
  {
   "cell_type": "markdown",
   "id": "456e21d8-6bec-411a-ae07-ec343a47a3f2",
   "metadata": {},
   "source": [
    "#### Using QiskitIBMruntime (for new versions)"
   ]
  },
  {
   "cell_type": "code",
   "execution_count": 8,
   "id": "bb45c571-dd6c-4417-aa96-0b08191ce9c4",
   "metadata": {},
   "outputs": [
    {
     "name": "stdout",
     "output_type": "stream",
     "text": [
      "ibm_brisbane\n",
      "ibm_sherbrooke\n",
      "ibm_torino\n"
     ]
    }
   ],
   "source": [
    "#print available real devices\n",
    "from qiskit_ibm_runtime import QiskitRuntimeService\n",
    "\n",
    "service = QiskitRuntimeService()\n",
    "\n",
    "for backend in service.backends(simulator=False):\n",
    "    print(backend.name)\n"
   ]
  },
  {
   "cell_type": "code",
   "execution_count": 5,
   "id": "a4a2b029-e0c5-4290-a3b9-aacb39cd8ac8",
   "metadata": {},
   "outputs": [
    {
     "name": "stdout",
     "output_type": "stream",
     "text": [
      "PrimitiveResult([SamplerPubResult(data=DataBin(c=BitArray(<shape=(), num_shots=4096, num_bits=2>)), metadata={'circuit_metadata': {}})], metadata={'execution': {'execution_spans': ExecutionSpans([DoubleSliceSpan(<start='2025-07-03 00:13:07', stop='2025-07-03 00:13:09', size=4096>)])}, 'version': 2})\n"
     ]
    }
   ],
   "source": [
    "from qiskit_ibm_runtime import QiskitRuntimeService, Sampler\n",
    "from qiskit import QuantumCircuit,transpile\n",
    "\n",
    "# Load your saved account\n",
    "service = QiskitRuntimeService()\n",
    "\n",
    "# Choose a real backend\n",
    "backend = service.backend(\"ibm_brisbane\")  # Or another available backend (to check these, one can check their IBM account) \n",
    "\n",
    "# Create your circuit\n",
    "qc = QuantumCircuit(2,2)\n",
    "qc.h(0)\n",
    "qc.cx(0, 1)\n",
    "qc.measure([0,1], [0,1])\n",
    "\n",
    "#transpile\n",
    "tqc = transpile(qc, backend=backend)\n",
    "\n",
    "# Create a sampler for running the circuit\n",
    "sampler = Sampler(mode=backend)\n",
    "job = sampler.run([tqc])\n",
    "\n",
    "# Get and print result\n",
    "result = job.result()\n",
    "print(result)\n"
   ]
  },
  {
   "cell_type": "markdown",
   "id": "fbd320ff-4cd4-44d6-8f33-c21dcb88594e",
   "metadata": {},
   "source": [
    "In the above, we obtain the result as PrimtiveResult object. In the below, we obtain the same result as obtained in a simulator."
   ]
  },
  {
   "cell_type": "code",
   "execution_count": 6,
   "id": "fe2908ed-4e25-4d36-920e-526d2094830e",
   "metadata": {},
   "outputs": [
    {
     "name": "stdout",
     "output_type": "stream",
     "text": [
      "BitArray(<shape=(), num_shots=4096, num_bits=2>)\n",
      "Counts: {'00': 1968, '11': 2010, '01': 34, '10': 84}\n",
      "Probabilities:\n",
      "00: 0.4805\n",
      "11: 0.4907\n",
      "01: 0.0083\n",
      "10: 0.0205\n"
     ]
    }
   ],
   "source": [
    "from qiskit_ibm_runtime import SamplerV2 as Sampler\n",
    "from collections import Counter\n",
    "\n",
    "# Assuming 'result' is your PrimitiveResult object\n",
    "pub_result = result[0]  # Access the first (and only) PUB result\n",
    "\n",
    "# Extract the BitArray from the data\n",
    "bitarray = pub_result.data.c\n",
    "\n",
    "print(bitarray)\n",
    "\n",
    "counts = bitarray.get_counts()\n",
    "total = sum(counts.values())\n",
    "probabilities = {b: c/total for b, c in counts.items()}\n",
    "\n",
    "print(\"Counts:\", counts)\n",
    "print(\"Probabilities:\")\n",
    "for b, p in probabilities.items():\n",
    "    print(f\"{b}: {p:.4f}\")\n"
   ]
  },
  {
   "cell_type": "markdown",
   "id": "ca5a0cea-b507-42b7-83b7-71681f53a201",
   "metadata": {},
   "source": [
    "Theoretically, there shouldn't be any nonzero probabilty for |01> and |10> states. Due to quantum errors, we see a nonzero values in those states. As for |00> and |11> states, the probabilties are 0.4805 and.0.4907, respectively."
   ]
  },
  {
   "cell_type": "code",
   "execution_count": null,
   "id": "a6aca29e-6106-496b-9e87-14cc0f928def",
   "metadata": {},
   "outputs": [],
   "source": []
  }
 ],
 "metadata": {
  "kernelspec": {
   "display_name": "Python 3 (ipykernel)",
   "language": "python",
   "name": "python3"
  },
  "language_info": {
   "codemirror_mode": {
    "name": "ipython",
    "version": 3
   },
   "file_extension": ".py",
   "mimetype": "text/x-python",
   "name": "python",
   "nbconvert_exporter": "python",
   "pygments_lexer": "ipython3",
   "version": "3.13.5"
  }
 },
 "nbformat": 4,
 "nbformat_minor": 5
}
